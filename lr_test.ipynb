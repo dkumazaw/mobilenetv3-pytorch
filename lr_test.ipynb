{
 "cells": [
  {
   "cell_type": "code",
   "execution_count": 1,
   "metadata": {},
   "outputs": [],
   "source": [
    "from datetime import datetime\n",
    "import logging\n",
    "import os\n",
    "import random\n",
    "import math\n",
    "\n",
    "import torch\n",
    "from torch import nn\n",
    "from torch.utils.data import DataLoader\n",
    "from torch.utils.data.sampler import SubsetRandomSampler\n",
    "\n",
    "import torchvision\n",
    "from torchvision import transforms\n",
    "\n",
    "from mylogger import create_logger\n",
    "from net.mobilenetv3 import MobileNetV3Large, MobileNetV3Small\n",
    "from trainer import ClassifierTrainer as Trainer\n",
    "import utils\n",
    "import matplotlib.pyplot as plt"
   ]
  },
  {
   "cell_type": "code",
   "execution_count": 2,
   "metadata": {},
   "outputs": [],
   "source": [
    "BATCH_SIZE = 1760\n",
    "NUM_WORKERS = 96\n",
    "EPOCHS = 30"
   ]
  },
  {
   "cell_type": "code",
   "execution_count": 3,
   "metadata": {},
   "outputs": [],
   "source": [
    "device = torch.device('cuda') if torch.cuda.is_available() else 'cpu'\n",
    "normalizer = transforms.Normalize(\n",
    "    mean=[0.485, 0.456, 0.406],\n",
    "    std=[0.229, 0.224, 0.225]\n",
    ")\n",
    "\n",
    "transform_train = transforms.Compose([\n",
    "    transforms.RandomResizedCrop(224, scale=(0.8, 1.0)),\n",
    "    transforms.RandomRotation(3),\n",
    "    transforms.RandomHorizontalFlip(),\n",
    "    transforms.ColorJitter(brightness=0.3,\n",
    "                           contrast=0.3,\n",
    "                           saturation=0.3,\n",
    "                           hue=0.1),\n",
    "    transforms.ToTensor(),\n",
    "    utils.Cutout(20),\n",
    "    normalizer\n",
    "])\n",
    "\n",
    "transform_valid = transforms.Compose([\n",
    "    transforms.Resize(256),\n",
    "    transforms.CenterCrop(224),\n",
    "    transforms.ToTensor(),\n",
    "    normalizer\n",
    "])\n",
    "\n",
    "train_val_dataset = torchvision.datasets.ImageFolder(\n",
    "    './data/imagenet/train', transform=transform_train\n",
    ")\n",
    "\n",
    "# Create validation dataset\n",
    "dataset_size = len(train_val_dataset)\n",
    "indices = list(range(dataset_size))\n",
    "random.shuffle(indices)\n",
    "\n",
    "train_indices = indices[50000:]\n",
    "valid_indices = indices[:50000]\n",
    "\n",
    "train_sampler = SubsetRandomSampler(train_indices)\n",
    "valid_sampler = SubsetRandomSampler(valid_indices)\n"
   ]
  },
  {
   "cell_type": "code",
   "execution_count": 4,
   "metadata": {},
   "outputs": [],
   "source": [
    "valid_loader = DataLoader(\n",
    "    train_val_dataset, batch_size=BATCH_SIZE, sampler=valid_sampler, num_workers=NUM_WORKERS\n",
    ")"
   ]
  },
  {
   "cell_type": "code",
   "execution_count": 5,
   "metadata": {},
   "outputs": [],
   "source": [
    "# Credit: https://medium.com/coinmonks/training-neural-networks-upto-10x-faster-3246d84caacd\n",
    "def findLR(model, optimizer, criterion, trainloader, final_value=10, init_value=1e-8):\n",
    "    '''\n",
    "      findLR plots the graph for the optimum learning rates for the model with the \n",
    "      corresponding dataset.\n",
    "      The technique is quite simple. For one epoch,\n",
    "      1. Start with a very small learning rate (around 1e-8) and increase the learning rate linearly.\n",
    "      2. Plot the loss at each step of LR.\n",
    "      3. Stop the learning rate finder when loss stops going down and starts increasing.\n",
    "      \n",
    "      A graph is created with the x axis having learning rates and the y axis\n",
    "      having the losses.\n",
    "      \n",
    "      Arguments:\n",
    "      1. model -  (torch.nn.Module) The deep learning pytorch network.\n",
    "      2. optimizer: (torch.optim) The optimiser for the model eg: SGD,CrossEntropy etc\n",
    "      3. criterion: (torch.nn) The loss function that is used for the model.\n",
    "      4. trainloader: (torch.utils.data.DataLoader) The data loader that loads data in batches for input into model \n",
    "      5. final_value: (float) Final value of learning rate\n",
    "      6. init_value: (float) Starting learning rate.\n",
    "      \n",
    "      Returns:\n",
    "       Nothing\n",
    "       \n",
    "      Plots a matplotlib graph\n",
    "      \n",
    "    '''\n",
    "    model.train() # setup model for training configuration\n",
    "    \n",
    "    num = len(trainloader) - 1 # total number of batches\n",
    "    mult = (final_value / init_value) ** (1/num)\n",
    "    \n",
    "    losses = []\n",
    "    lrs = []\n",
    "    best_loss = 0.\n",
    "    avg_loss = 0.\n",
    "    beta = 0.98 # the value for smooth losses\n",
    "    lr = init_value\n",
    "    \n",
    "    for batch_num, (inputs, targets) in enumerate(trainloader):\n",
    "        \n",
    "        \n",
    "        optimizer.param_groups[0]['lr'] = lr\n",
    "        \n",
    "        batch_num += 1 # for non zero value\n",
    "        inputs, targets = inputs.to(device), targets.to(device) # convert to cuda for GPU usage\n",
    "        optimizer.zero_grad() # clear gradients\n",
    "        outputs = model(inputs) # forward pass\n",
    "        loss = criterion(outputs, targets) # compute loss\n",
    "       \n",
    "        #Compute the smoothed loss to create a clean graph\n",
    "        avg_loss = beta * avg_loss + (1-beta) *loss.item()\n",
    "        smoothed_loss = avg_loss / (1 - beta**batch_num)\n",
    "        \n",
    "        #Record the best loss\n",
    "        if smoothed_loss < best_loss or batch_num==1:\n",
    "            best_loss = smoothed_loss\n",
    "        \n",
    "        # append loss and learning rates for plotting\n",
    "        lrs.append(math.log10(lr))\n",
    "        losses.append(smoothed_loss)\n",
    "        \n",
    "        # Stop if the loss is exploding\n",
    "        if batch_num > 1 and smoothed_loss > 4 * best_loss:\n",
    "            break\n",
    "        \n",
    "        # backprop for next step\n",
    "        loss.backward()\n",
    "        optimizer.step()\n",
    "        \n",
    "        # update learning rate\n",
    "        lr = mult*lr\n",
    "        \n",
    "    plt.xlabel('Learning Rates')\n",
    "    plt.ylabel('Losses')\n",
    "    plt.plot(lrs,losses)\n",
    "    plt.show()"
   ]
  },
  {
   "cell_type": "code",
   "execution_count": 6,
   "metadata": {},
   "outputs": [],
   "source": [
    "model = MobileNetV3Large(n_classes=1000).to(device)\n",
    "if torch.cuda.device_count() > 1:\n",
    "    model = nn.DataParallel(model)\n",
    "criterion = nn.CrossEntropyLoss()\n",
    "optimizer = torch.optim.SGD(model.parameters(), lr=0.1, momentum=0.9, weight_decay=1e-5)"
   ]
  },
  {
   "cell_type": "code",
   "execution_count": 7,
   "metadata": {},
   "outputs": [
    {
     "data": {
      "image/png": "[encoded data removed]",
      "text/plain": [
       "<Figure size 432x288 with 1 Axes>"
      ]
     },
     "metadata": {
      "needs_background": "light"
     },
     "output_type": "display_data"
    }
   ],
   "source": [
    "findLR(model, optimizer, criterion, valid_loader)"
   ]
  },
  {
   "cell_type": "code",
   "execution_count": null,
   "metadata": {},
   "outputs": [],
   "source": []
  }
 ],
 "metadata": {
  "kernelspec": {
   "display_name": "Python 3",
   "language": "python",
   "name": "python3"
  },
  "language_info": {
   "codemirror_mode": {
    "name": "ipython",
    "version": 3
   },
   "file_extension": ".py",
   "mimetype": "text/x-python",
   "name": "python",
   "nbconvert_exporter": "python",
   "pygments_lexer": "ipython3",
   "version": "3.7.3"
  }
 },
 "nbformat": 4,
 "nbformat_minor": 2
}
